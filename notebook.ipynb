{
 "cells": [
  {
   "cell_type": "markdown",
   "id": "61c2d89f",
   "metadata": {},
   "source": [
    "## South African Language Identification Hack 2022\n",
    "\n",
    "EDSA 2201 & 2207 classification hackathon\n",
    "\n",
    "---\n",
    "\n",
    "In this challenge, you will take text which is in any of South Africa's 11 Official languages and identify which language the text is in. This is an example of NLP's Language Identification, the task of determining the natural language that a piece of text is written in."
   ]
  },
  {
   "cell_type": "markdown",
   "id": "0a5390e2",
   "metadata": {},
   "source": [
    "<a id=\"menu\"></a>\n",
    "## Sections Menu\n",
    "\n",
    "<a href=#inp>1. Import Necessary Packages</a>\n",
    "\n",
    "<a href=#ltd>2. Load Train Data</a>\n",
    "\n",
    "<a href=#eda>3. Exploratory Data Analysis</a>\n",
    "\n",
    "<a href=#de>4. Data Engineering</a>\n",
    "\n",
    "<a href=#mod>5. Modeling</a>\n",
    "\n",
    "<a href=#mp>6. Model Performance</a>\n"
   ]
  },
  {
   "cell_type": "markdown",
   "id": "dc59fc4f",
   "metadata": {},
   "source": [
    " <a id=\"inp\"></a>\n",
    "## 1. Import Necessary Packages\n",
    "<a href=#menu>Back to Sections Menu</a>"
   ]
  },
  {
   "cell_type": "code",
   "execution_count": 47,
   "id": "9ad7445e",
   "metadata": {},
   "outputs": [],
   "source": [
    "# Data loading, data manipulation and data visualisation packages\n",
    "import pandas as pd\n",
    "\n",
    "# NLP and text preprocessing packages\n",
    "from sklearn.feature_extraction.text import TfidfVectorizer\n",
    "\n",
    "# Modelling packages\n",
    "from sklearn.model_selection import train_test_split, GridSearchCV\n",
    "from sklearn import feature_selection\n",
    "from sklearn.feature_selection import f_classif\n",
    "from sklearn.naive_bayes import MultinomialNB\n",
    "from sklearn.ensemble import RandomForestClassifier\n",
    "from sklearn.svm import SVC\n",
    "\n",
    "#libraries for score metrics\n",
    "from sklearn.metrics import accuracy_score, classification_report"
   ]
  },
  {
   "cell_type": "markdown",
   "id": "e839c5b9",
   "metadata": {},
   "source": [
    " <a id=\"ltd\"></a>\n",
    "## 2. Load Train Data\n",
    "<a href=#menu>Back to Sections Menu</a>"
   ]
  },
  {
   "cell_type": "code",
   "execution_count": 6,
   "id": "b3d43202",
   "metadata": {},
   "outputs": [
    {
     "data": {
      "text/html": [
       "<div>\n",
       "<style scoped>\n",
       "    .dataframe tbody tr th:only-of-type {\n",
       "        vertical-align: middle;\n",
       "    }\n",
       "\n",
       "    .dataframe tbody tr th {\n",
       "        vertical-align: top;\n",
       "    }\n",
       "\n",
       "    .dataframe thead th {\n",
       "        text-align: right;\n",
       "    }\n",
       "</style>\n",
       "<table border=\"1\" class=\"dataframe\">\n",
       "  <thead>\n",
       "    <tr style=\"text-align: right;\">\n",
       "      <th></th>\n",
       "      <th>lang_id</th>\n",
       "      <th>text</th>\n",
       "    </tr>\n",
       "  </thead>\n",
       "  <tbody>\n",
       "    <tr>\n",
       "      <th>0</th>\n",
       "      <td>xho</td>\n",
       "      <td>umgaqo-siseko wenza amalungiselelo kumaziko axhasa ulawulo lwesininzi kunye nokuthath inxaxheba kwabafazi ezi ziquka phakathi kwezinye zazo ikomishoni yokulingana ngokwesini ikomishoni yamalungelo oluntu lomzantsi afrika</td>\n",
       "    </tr>\n",
       "    <tr>\n",
       "      <th>1</th>\n",
       "      <td>xho</td>\n",
       "      <td>i-dha iya kuba nobulumko bokubeka umsebenzi naphi na kwisebe ngokusekwe kwiimfuno zokusebenza zalo emva kokubonana nomsebenzi kunye okanye imanyano yakhe ukuba ulandulo lomntu onjalo alufanelekanga i-dha mayibize uncedo olufanelekileyo elungelweni layo</td>\n",
       "    </tr>\n",
       "    <tr>\n",
       "      <th>2</th>\n",
       "      <td>eng</td>\n",
       "      <td>the province of kwazulu-natal department of transport invites tenders from established contractors experienced in bridge construction for the construction of the kwajolwayo tugela river pedestrian bridge near tugela ferry the duration of the project will be months</td>\n",
       "    </tr>\n",
       "    <tr>\n",
       "      <th>3</th>\n",
       "      <td>nso</td>\n",
       "      <td>o netefatša gore o ba file dilo ka moka tše le dumelelanego ka tšona mohlala maleri a magolo a a šomišwago go fihlelela meagong e metelele scaffolds a a bolokegilego lefelo la maleba la go šomela go phela gabotse bjbj</td>\n",
       "    </tr>\n",
       "    <tr>\n",
       "      <th>4</th>\n",
       "      <td>ven</td>\n",
       "      <td>khomishini ya ndinganyiso ya mbeu yo ewa maana u ya nga mulayo wa khomishini ya ndinganyiso ya mbeu u thetshelesa mbilaelo dzine dza tshimbilelana na tshialula u ya nga mbeu nahone i ivhea sa foramu ya thungo u ya nga mulayo wa ndinganyiso</td>\n",
       "    </tr>\n",
       "  </tbody>\n",
       "</table>\n",
       "</div>"
      ],
      "text/plain": [
       "  lang_id  \\\n",
       "0     xho   \n",
       "1     xho   \n",
       "2     eng   \n",
       "3     nso   \n",
       "4     ven   \n",
       "\n",
       "                                                                                                                                                                                                                                                                       text  \n",
       "0                                              umgaqo-siseko wenza amalungiselelo kumaziko axhasa ulawulo lwesininzi kunye nokuthath inxaxheba kwabafazi ezi ziquka phakathi kwezinye zazo ikomishoni yokulingana ngokwesini ikomishoni yamalungelo oluntu lomzantsi afrika  \n",
       "1              i-dha iya kuba nobulumko bokubeka umsebenzi naphi na kwisebe ngokusekwe kwiimfuno zokusebenza zalo emva kokubonana nomsebenzi kunye okanye imanyano yakhe ukuba ulandulo lomntu onjalo alufanelekanga i-dha mayibize uncedo olufanelekileyo elungelweni layo  \n",
       "2  the province of kwazulu-natal department of transport invites tenders from established contractors experienced in bridge construction for the construction of the kwajolwayo tugela river pedestrian bridge near tugela ferry the duration of the project will be months  \n",
       "3                                                 o netefatša gore o ba file dilo ka moka tše le dumelelanego ka tšona mohlala maleri a magolo a a šomišwago go fihlelela meagong e metelele scaffolds a a bolokegilego lefelo la maleba la go šomela go phela gabotse bjbj  \n",
       "4                           khomishini ya ndinganyiso ya mbeu yo ewa maana u ya nga mulayo wa khomishini ya ndinganyiso ya mbeu u thetshelesa mbilaelo dzine dza tshimbilelana na tshialula u ya nga mbeu nahone i ivhea sa foramu ya thungo u ya nga mulayo wa ndinganyiso  "
      ]
     },
     "execution_count": 6,
     "metadata": {},
     "output_type": "execute_result"
    }
   ],
   "source": [
    "# Load training data\n",
    "df_train = pd.read_csv('train_set.csv')\n",
    "\n",
    "train_set = df_train.copy()\n",
    "pd.set_option('max_colwidth', None)\n",
    "train_set.head()"
   ]
  },
  {
   "cell_type": "markdown",
   "id": "444c0e2b",
   "metadata": {},
   "source": [
    " <a id=\"eda\"></a>\n",
    "## 3. Exploratory Data Analysis\n",
    "<a href=#menu>Back to Sections Menu</a>"
   ]
  },
  {
   "cell_type": "code",
   "execution_count": 19,
   "id": "4f9c49b6",
   "metadata": {},
   "outputs": [
    {
     "name": "stdout",
     "output_type": "stream",
     "text": [
      "DF shape?\n",
      " (33000, 2)\n",
      "\n",
      "Null entries?\n",
      " lang_id    0\n",
      "text       0\n",
      "dtype: int64\n",
      "\n",
      "Duplicates? False\n"
     ]
    }
   ],
   "source": [
    "# Show data shape, check for null entries and duplicates\n",
    "print('DF shape?\\n',train_set.shape)\n",
    "print('\\nNull entries?\\n',train_set.isna().sum())\n",
    "print('\\nDuplicates?', train_set.columns.duplicated().any())\n",
    "print('')"
   ]
  },
  {
   "cell_type": "markdown",
   "id": "affc4346",
   "metadata": {},
   "source": [
    " <a id=\"de\"></a>\n",
    "## 4. Data Engineering\n",
    "<a href=#menu>Back to Sections Menu</a>"
   ]
  },
  {
   "cell_type": "code",
   "execution_count": 21,
   "id": "7ae5e508",
   "metadata": {},
   "outputs": [
    {
     "data": {
      "text/html": [
       "<div>\n",
       "<style scoped>\n",
       "    .dataframe tbody tr th:only-of-type {\n",
       "        vertical-align: middle;\n",
       "    }\n",
       "\n",
       "    .dataframe tbody tr th {\n",
       "        vertical-align: top;\n",
       "    }\n",
       "\n",
       "    .dataframe thead th {\n",
       "        text-align: right;\n",
       "    }\n",
       "</style>\n",
       "<table border=\"1\" class=\"dataframe\">\n",
       "  <thead>\n",
       "    <tr style=\"text-align: right;\">\n",
       "      <th></th>\n",
       "      <th>lang_id</th>\n",
       "      <th>text</th>\n",
       "      <th>clean_text</th>\n",
       "    </tr>\n",
       "  </thead>\n",
       "  <tbody>\n",
       "    <tr>\n",
       "      <th>0</th>\n",
       "      <td>xho</td>\n",
       "      <td>umgaqo-siseko wenza amalungiselelo kumaziko axhasa ulawulo lwesininzi kunye nokuthath inxaxheba kwabafazi ezi ziquka phakathi kwezinye zazo ikomishoni yokulingana ngokwesini ikomishoni yamalungelo oluntu lomzantsi afrika</td>\n",
       "      <td>umgaqo-siseko wenza amalungiselelo kumaziko axhasa ulawulo lwesininzi kunye nokuthath inxaxheba kwabafazi ezi ziquka phakathi kwezinye zazo ikomishoni yokulingana ngokwesini ikomishoni yamalungelo oluntu lomzantsi afrika</td>\n",
       "    </tr>\n",
       "    <tr>\n",
       "      <th>1</th>\n",
       "      <td>xho</td>\n",
       "      <td>i-dha iya kuba nobulumko bokubeka umsebenzi naphi na kwisebe ngokusekwe kwiimfuno zokusebenza zalo emva kokubonana nomsebenzi kunye okanye imanyano yakhe ukuba ulandulo lomntu onjalo alufanelekanga i-dha mayibize uncedo olufanelekileyo elungelweni layo</td>\n",
       "      <td>i-dha iya kuba nobulumko bokubeka umsebenzi naphi na kwisebe ngokusekwe kwiimfuno zokusebenza zalo emva kokubonana nomsebenzi kunye okanye imanyano yakhe ukuba ulandulo lomntu onjalo alufanelekanga i-dha mayibize uncedo olufanelekileyo elungelweni layo</td>\n",
       "    </tr>\n",
       "    <tr>\n",
       "      <th>2</th>\n",
       "      <td>eng</td>\n",
       "      <td>the province of kwazulu-natal department of transport invites tenders from established contractors experienced in bridge construction for the construction of the kwajolwayo tugela river pedestrian bridge near tugela ferry the duration of the project will be months</td>\n",
       "      <td>the province of kwazulu-natal department of transport invites tenders from established contractors experienced in bridge construction for the construction of the kwajolwayo tugela river pedestrian bridge near tugela ferry the duration of the project will be months</td>\n",
       "    </tr>\n",
       "    <tr>\n",
       "      <th>3</th>\n",
       "      <td>nso</td>\n",
       "      <td>o netefatša gore o ba file dilo ka moka tše le dumelelanego ka tšona mohlala maleri a magolo a a šomišwago go fihlelela meagong e metelele scaffolds a a bolokegilego lefelo la maleba la go šomela go phela gabotse bjbj</td>\n",
       "      <td>o netefatša gore o ba file dilo ka moka tše le dumelelanego ka tšona mohlala maleri a magolo a a šomišwago go fihlelela meagong e metelele scaffolds a a bolokegilego lefelo la maleba la go šomela go phela gabotse bjbj</td>\n",
       "    </tr>\n",
       "    <tr>\n",
       "      <th>4</th>\n",
       "      <td>ven</td>\n",
       "      <td>khomishini ya ndinganyiso ya mbeu yo ewa maana u ya nga mulayo wa khomishini ya ndinganyiso ya mbeu u thetshelesa mbilaelo dzine dza tshimbilelana na tshialula u ya nga mbeu nahone i ivhea sa foramu ya thungo u ya nga mulayo wa ndinganyiso</td>\n",
       "      <td>khomishini ya ndinganyiso ya mbeu yo ewa maana u ya nga mulayo wa khomishini ya ndinganyiso ya mbeu u thetshelesa mbilaelo dzine dza tshimbilelana na tshialula u ya nga mbeu nahone i ivhea sa foramu ya thungo u ya nga mulayo wa ndinganyiso</td>\n",
       "    </tr>\n",
       "  </tbody>\n",
       "</table>\n",
       "</div>"
      ],
      "text/plain": [
       "  lang_id  \\\n",
       "0     xho   \n",
       "1     xho   \n",
       "2     eng   \n",
       "3     nso   \n",
       "4     ven   \n",
       "\n",
       "                                                                                                                                                                                                                                                                       text  \\\n",
       "0                                              umgaqo-siseko wenza amalungiselelo kumaziko axhasa ulawulo lwesininzi kunye nokuthath inxaxheba kwabafazi ezi ziquka phakathi kwezinye zazo ikomishoni yokulingana ngokwesini ikomishoni yamalungelo oluntu lomzantsi afrika   \n",
       "1              i-dha iya kuba nobulumko bokubeka umsebenzi naphi na kwisebe ngokusekwe kwiimfuno zokusebenza zalo emva kokubonana nomsebenzi kunye okanye imanyano yakhe ukuba ulandulo lomntu onjalo alufanelekanga i-dha mayibize uncedo olufanelekileyo elungelweni layo   \n",
       "2  the province of kwazulu-natal department of transport invites tenders from established contractors experienced in bridge construction for the construction of the kwajolwayo tugela river pedestrian bridge near tugela ferry the duration of the project will be months   \n",
       "3                                                 o netefatša gore o ba file dilo ka moka tše le dumelelanego ka tšona mohlala maleri a magolo a a šomišwago go fihlelela meagong e metelele scaffolds a a bolokegilego lefelo la maleba la go šomela go phela gabotse bjbj   \n",
       "4                           khomishini ya ndinganyiso ya mbeu yo ewa maana u ya nga mulayo wa khomishini ya ndinganyiso ya mbeu u thetshelesa mbilaelo dzine dza tshimbilelana na tshialula u ya nga mbeu nahone i ivhea sa foramu ya thungo u ya nga mulayo wa ndinganyiso   \n",
       "\n",
       "                                                                                                                                                                                                                                                                 clean_text  \n",
       "0                                              umgaqo-siseko wenza amalungiselelo kumaziko axhasa ulawulo lwesininzi kunye nokuthath inxaxheba kwabafazi ezi ziquka phakathi kwezinye zazo ikomishoni yokulingana ngokwesini ikomishoni yamalungelo oluntu lomzantsi afrika  \n",
       "1              i-dha iya kuba nobulumko bokubeka umsebenzi naphi na kwisebe ngokusekwe kwiimfuno zokusebenza zalo emva kokubonana nomsebenzi kunye okanye imanyano yakhe ukuba ulandulo lomntu onjalo alufanelekanga i-dha mayibize uncedo olufanelekileyo elungelweni layo  \n",
       "2  the province of kwazulu-natal department of transport invites tenders from established contractors experienced in bridge construction for the construction of the kwajolwayo tugela river pedestrian bridge near tugela ferry the duration of the project will be months  \n",
       "3                                                 o netefatša gore o ba file dilo ka moka tše le dumelelanego ka tšona mohlala maleri a magolo a a šomišwago go fihlelela meagong e metelele scaffolds a a bolokegilego lefelo la maleba la go šomela go phela gabotse bjbj  \n",
       "4                           khomishini ya ndinganyiso ya mbeu yo ewa maana u ya nga mulayo wa khomishini ya ndinganyiso ya mbeu u thetshelesa mbilaelo dzine dza tshimbilelana na tshialula u ya nga mbeu nahone i ivhea sa foramu ya thungo u ya nga mulayo wa ndinganyiso  "
      ]
     },
     "execution_count": 21,
     "metadata": {},
     "output_type": "execute_result"
    }
   ],
   "source": [
    "# Remove punctuation, numbers, and special characters\n",
    "train_set['clean_text'] = train_set['text'].str.replace('[^a-zA-Z#]', ' ', regex=False)\n",
    "# Change text to lowercase\n",
    "train_set['clean_text'] = train_set['clean_text'].str.lower()\n",
    "train_set.head()"
   ]
  },
  {
   "cell_type": "markdown",
   "id": "d8eba9a9",
   "metadata": {},
   "source": [
    " <a id=\"mod\"></a>\n",
    "## 5. Modeling\n",
    "<a href=#menu>Back to Sections Menu</a>"
   ]
  },
  {
   "cell_type": "markdown",
   "id": "befbc162",
   "metadata": {},
   "source": [
    "### 5.1 Vectorization"
   ]
  },
  {
   "cell_type": "code",
   "execution_count": 23,
   "id": "7f9294b3",
   "metadata": {},
   "outputs": [],
   "source": [
    "# Create features out of the text (Vectorization)\n",
    "vectorizer = TfidfVectorizer(min_df=2, max_df=0.5, ngram_range=(1, 2))\n",
    "\n",
    "#fit and transorm data \n",
    "training_x = vectorizer.fit_transform(train_set['clean_text'])\n",
    "\n",
    "# Select the best features\n",
    "X = training_x \n",
    "y = train_set['lang_id']\n",
    "\n",
    "# Split the data into train and test\n",
    "X_train, X_test, y_train, y_test = train_test_split(X, y, test_size=0.2, random_state=50)\n",
    "\n",
    "# Set up selector, choosing score function and number of features to retain\n",
    "selector_kbest = feature_selection.SelectKBest(score_func=f_classif, k=50000)"
   ]
  },
  {
   "cell_type": "code",
   "execution_count": 30,
   "id": "77880aae",
   "metadata": {},
   "outputs": [
    {
     "name": "stderr",
     "output_type": "stream",
     "text": [
      "/home/pcf26536/anaconda3/lib/python3.9/site-packages/sklearn/feature_selection/_univariate_selection.py:114: UserWarning: Features [0 0 0 ... 0 0 0] are constant.\n",
      "  warnings.warn(\"Features %s are constant.\" % constant_features_idx,\n",
      "/home/pcf26536/anaconda3/lib/python3.9/site-packages/sklearn/feature_selection/_univariate_selection.py:116: RuntimeWarning: invalid value encountered in true_divide\n",
      "  f = msb / msw\n"
     ]
    },
    {
     "data": {
      "text/plain": [
       "(26400, 50000)"
      ]
     },
     "execution_count": 30,
     "metadata": {},
     "output_type": "execute_result"
    }
   ],
   "source": [
    "# Transform: Run selection on the training data\n",
    "X_train_kbest = selector_kbest.fit_transform(X_train, y_train)\n",
    "X_train_kbest.shape"
   ]
  },
  {
   "cell_type": "code",
   "execution_count": 31,
   "id": "2a091067",
   "metadata": {},
   "outputs": [
    {
     "data": {
      "text/plain": [
       "(6600, 50000)"
      ]
     },
     "execution_count": 31,
     "metadata": {},
     "output_type": "execute_result"
    }
   ],
   "source": [
    "# Transform: Run selection on the testing data\n",
    "X_test_kbest = selector_kbest.transform(X_test)\n",
    "X_test_kbest.shape"
   ]
  },
  {
   "cell_type": "markdown",
   "id": "72f6ee7e",
   "metadata": {},
   "source": [
    "### 5.2 Models"
   ]
  },
  {
   "cell_type": "markdown",
   "id": "24434050",
   "metadata": {},
   "source": [
    "### 5.2.1 Naive Bayes"
   ]
  },
  {
   "cell_type": "code",
   "execution_count": 34,
   "id": "466a5ada",
   "metadata": {},
   "outputs": [
    {
     "name": "stdout",
     "output_type": "stream",
     "text": [
      "Fitting 5 folds for each of 5 candidates, totalling 25 fits\n"
     ]
    },
    {
     "data": {
      "text/plain": [
       "GridSearchCV(cv=5, estimator=MultinomialNB(), n_jobs=-1,\n",
       "             param_grid={'alpha': [0.01, 0.1, 0.5, 1.0, 10.0]}, verbose=5)"
      ]
     },
     "execution_count": 34,
     "metadata": {},
     "output_type": "execute_result"
    }
   ],
   "source": [
    "# Parameters\n",
    "params = {'alpha': [0.01, 0.1, 0.5, 1.0, 10.0, ],}\n",
    "\n",
    "# Perform a grid search to obtain the best alpha\n",
    "multinomial_nb_grid = GridSearchCV(MultinomialNB(), param_grid=params, n_jobs=-1, cv=5, verbose=5)\n",
    "multinomial_nb_grid.fit(X_train, y_train)"
   ]
  },
  {
   "cell_type": "code",
   "execution_count": 35,
   "id": "b4babc3d",
   "metadata": {},
   "outputs": [
    {
     "name": "stdout",
     "output_type": "stream",
     "text": [
      "Train Accuracy : 1.000\n",
      "Test Accuracy : 0.999\n",
      "Best Accuracy Through Grid Search : 0.999\n",
      "Best Parameters :  {'alpha': 0.5}\n"
     ]
    }
   ],
   "source": [
    "# Print out the accuracy and best parameters of the model\n",
    "print('Train Accuracy : %.3f'%multinomial_nb_grid.best_estimator_.score(X_train, y_train))\n",
    "print('Test Accuracy : %.3f'%multinomial_nb_grid.best_estimator_.score(X_test, y_test))\n",
    "print('Best Accuracy Through Grid Search : %.3f'%multinomial_nb_grid.best_score_)\n",
    "print('Best Parameters : ',multinomial_nb_grid.best_params_)"
   ]
  },
  {
   "cell_type": "code",
   "execution_count": 36,
   "id": "cc4bd834",
   "metadata": {},
   "outputs": [
    {
     "data": {
      "text/plain": [
       "MultinomialNB(alpha=0.5)"
      ]
     },
     "execution_count": 36,
     "metadata": {},
     "output_type": "execute_result"
    }
   ],
   "source": [
    "# Instantiate the best model from the best parameters above\n",
    "naive_bayes = MultinomialNB(alpha=0.5)\n",
    "naive_bayes.fit(X_train_kbest, y_train)"
   ]
  },
  {
   "cell_type": "code",
   "execution_count": 37,
   "id": "39b7bcd8",
   "metadata": {},
   "outputs": [],
   "source": [
    "# Generate predictions\n",
    "nb_tuned_pred = naive_bayes.predict(X_test_kbest)"
   ]
  },
  {
   "cell_type": "code",
   "execution_count": 40,
   "id": "c2f61238",
   "metadata": {},
   "outputs": [
    {
     "name": "stdout",
     "output_type": "stream",
     "text": [
      "Accuracy is : 0.9986363636363637\n",
      "[CV 3/5] END ........................alpha=0.01;, score=0.999 total time=   0.8s\n",
      "[CV 1/5] END .........................alpha=0.1;, score=0.998 total time=   0.8s\n",
      "[CV 4/5] END .........................alpha=0.1;, score=0.999 total time=   0.7s\n",
      "[CV 4/5] END .........................alpha=0.5;, score=0.999 total time=   0.5s\n",
      "[CV 3/5] END .........................alpha=1.0;, score=0.999 total time=   0.7s\n",
      "[CV 3/5] END ........................alpha=10.0;, score=0.995 total time=   0.7s\n",
      "[CV 4/5] END ........................alpha=0.01;, score=0.998 total time=   0.8s\n",
      "[CV 5/5] END ........................alpha=0.01;, score=0.999 total time=   0.9s\n",
      "[CV 1/5] END .........................alpha=0.5;, score=0.999 total time=   0.6s\n",
      "[CV 5/5] END .........................alpha=0.5;, score=1.000 total time=   0.6s\n",
      "[CV 5/5] END .........................alpha=1.0;, score=0.999 total time=   0.6s\n",
      "[CV 2/5] END ........................alpha=10.0;, score=0.994 total time=   0.9s\n",
      "[CV 1/5] END ........................alpha=0.01;, score=0.998 total time=   0.9s\n",
      "[CV 2/5] END .........................alpha=0.1;, score=0.998 total time=   0.8s\n",
      "[CV 5/5] END .........................alpha=0.1;, score=1.000 total time=   0.5s\n",
      "[CV 3/5] END .........................alpha=0.5;, score=0.999 total time=   0.5s\n",
      "[CV 2/5] END .........................alpha=1.0;, score=0.998 total time=   0.3s\n",
      "[CV 1/5] END ........................alpha=10.0;, score=0.996 total time=   0.7s\n",
      "[CV 4/5] END ........................alpha=10.0;, score=0.995 total time=   0.8s\n",
      "[CV 2/5] END ........................alpha=0.01;, score=0.998 total time=   0.9s\n",
      "[CV 3/5] END .........................alpha=0.1;, score=0.999 total time=   0.7s\n",
      "[CV 2/5] END .........................alpha=0.5;, score=0.999 total time=   0.5s\n",
      "[CV 1/5] END .........................alpha=1.0;, score=0.999 total time=   0.6s\n",
      "[CV 4/5] END .........................alpha=1.0;, score=0.998 total time=   1.1s\n",
      "[CV 5/5] END ........................alpha=10.0;, score=0.996 total time=   0.7s\n"
     ]
    }
   ],
   "source": [
    "score = accuracy_score(y_test, nb_tuned_pred)\n",
    "print(\"Accuracy is :\", score)"
   ]
  },
  {
   "cell_type": "code",
   "execution_count": 42,
   "id": "da63bc6c",
   "metadata": {},
   "outputs": [
    {
     "name": "stdout",
     "output_type": "stream",
     "text": [
      "              precision    recall  f1-score   support\n",
      "\n",
      "         afr       1.00      1.00      1.00       596\n",
      "         eng       1.00      1.00      1.00       595\n",
      "         nbl       1.00      0.99      1.00       594\n",
      "         nso       1.00      1.00      1.00       581\n",
      "         sot       1.00      1.00      1.00       600\n",
      "         ssw       1.00      1.00      1.00       601\n",
      "         tsn       1.00      1.00      1.00       609\n",
      "         tso       1.00      1.00      1.00       606\n",
      "         ven       1.00      1.00      1.00       614\n",
      "         xho       1.00      1.00      1.00       606\n",
      "         zul       1.00      1.00      1.00       598\n",
      "\n",
      "    accuracy                           1.00      6600\n",
      "   macro avg       1.00      1.00      1.00      6600\n",
      "weighted avg       1.00      1.00      1.00      6600\n",
      "\n"
     ]
    }
   ],
   "source": [
    "# Assess accuracy using the classification report\n",
    "nb_report = classification_report(y_test, nb_tuned_pred)\n",
    "print(nb_report)"
   ]
  },
  {
   "cell_type": "markdown",
   "id": "348a3fdd",
   "metadata": {},
   "source": [
    "### 5.2.2 Random Forest Classifier"
   ]
  },
  {
   "cell_type": "code",
   "execution_count": 44,
   "id": "cce5c3bc",
   "metadata": {},
   "outputs": [],
   "source": [
    "# Instantiate and fit the random forest classifier\n",
    "RFC = RandomForestClassifier()\n",
    "RFC.fit(X_train_kbest, y_train)\n",
    "RFC_pred = RFC.predict(X_test_kbest)"
   ]
  },
  {
   "cell_type": "code",
   "execution_count": 46,
   "id": "15948a47",
   "metadata": {
    "scrolled": true
   },
   "outputs": [
    {
     "name": "stdout",
     "output_type": "stream",
     "text": [
      "              precision    recall  f1-score   support\n",
      "\n",
      "         afr       1.00      1.00      1.00       596\n",
      "         eng       0.99      1.00      1.00       595\n",
      "         nbl       0.99      0.94      0.97       594\n",
      "         nso       1.00      0.99      0.99       581\n",
      "         sot       1.00      1.00      1.00       600\n",
      "         ssw       0.96      0.98      0.97       601\n",
      "         tsn       1.00      1.00      1.00       609\n",
      "         tso       1.00      1.00      1.00       606\n",
      "         ven       1.00      1.00      1.00       614\n",
      "         xho       0.97      0.98      0.98       606\n",
      "         zul       0.96      0.96      0.96       598\n",
      "\n",
      "    accuracy                           0.99      6600\n",
      "   macro avg       0.99      0.99      0.99      6600\n",
      "weighted avg       0.99      0.99      0.99      6600\n",
      "\n"
     ]
    }
   ],
   "source": [
    "# Assess accuracy using the classification report\n",
    "rfc_report = classification_report(y_test, RFC_pred)\n",
    "print(rfc_report)"
   ]
  },
  {
   "cell_type": "markdown",
   "id": "f2c7087f",
   "metadata": {},
   "source": [
    "### 5.2.3 Support Vector Machine"
   ]
  },
  {
   "cell_type": "code",
   "execution_count": 48,
   "id": "5e8d2032",
   "metadata": {},
   "outputs": [
    {
     "data": {
      "text/plain": [
       "SVC()"
      ]
     },
     "execution_count": 48,
     "metadata": {},
     "output_type": "execute_result"
    }
   ],
   "source": [
    "# Insatiate svm for kbest\n",
    "parameters = {'kernel':('linear','rbf'), 'C':(0.25,1.0), 'gamma': (1,2)}\n",
    "\n",
    "# Insatantiate svm for k features\n",
    "svm_kbest = SVC()\n",
    "clf = GridSearchCV(svm_kbest, parameters)\n",
    "svm_kbest.fit(X_train_kbest, y_train)"
   ]
  },
  {
   "cell_type": "code",
   "execution_count": 49,
   "id": "0dbddddc",
   "metadata": {},
   "outputs": [],
   "source": [
    "# Predictions for kbest\n",
    "svm_y_pred_kbest = svm_kbest.predict(X_test_kbest)"
   ]
  },
  {
   "cell_type": "code",
   "execution_count": 50,
   "id": "6ab4854a",
   "metadata": {},
   "outputs": [
    {
     "name": "stdout",
     "output_type": "stream",
     "text": [
      "              precision    recall  f1-score   support\n",
      "\n",
      "         afr       1.00      1.00      1.00       596\n",
      "         eng       1.00      1.00      1.00       595\n",
      "         nbl       0.99      0.98      0.99       594\n",
      "         nso       1.00      0.99      1.00       581\n",
      "         sot       1.00      1.00      1.00       600\n",
      "         ssw       1.00      1.00      1.00       601\n",
      "         tsn       1.00      1.00      1.00       609\n",
      "         tso       1.00      1.00      1.00       606\n",
      "         ven       1.00      1.00      1.00       614\n",
      "         xho       0.99      1.00      0.99       606\n",
      "         zul       0.98      0.99      0.99       598\n",
      "\n",
      "    accuracy                           1.00      6600\n",
      "   macro avg       1.00      1.00      1.00      6600\n",
      "weighted avg       1.00      1.00      1.00      6600\n",
      "\n"
     ]
    }
   ],
   "source": [
    "# Assess accuracy using the classification report\n",
    "svm_score = classification_report(y_test, svm_y_pred_kbest)\n",
    "print(svm_score)"
   ]
  },
  {
   "cell_type": "markdown",
   "id": "6011132d",
   "metadata": {},
   "source": [
    " <a id=\"mp\"></a>\n",
    "## 6. Model Performance\n",
    "<a href=#menu>Back to Sections Menu</a>"
   ]
  },
  {
   "cell_type": "code",
   "execution_count": 52,
   "id": "ba3bfdd9",
   "metadata": {},
   "outputs": [
    {
     "data": {
      "text/html": [
       "<div>\n",
       "<style scoped>\n",
       "    .dataframe tbody tr th:only-of-type {\n",
       "        vertical-align: middle;\n",
       "    }\n",
       "\n",
       "    .dataframe tbody tr th {\n",
       "        vertical-align: top;\n",
       "    }\n",
       "\n",
       "    .dataframe thead th {\n",
       "        text-align: right;\n",
       "    }\n",
       "</style>\n",
       "<table border=\"1\" class=\"dataframe\">\n",
       "  <thead>\n",
       "    <tr style=\"text-align: right;\">\n",
       "      <th></th>\n",
       "      <th>index</th>\n",
       "      <th>text</th>\n",
       "      <th>clean_text</th>\n",
       "    </tr>\n",
       "  </thead>\n",
       "  <tbody>\n",
       "    <tr>\n",
       "      <th>0</th>\n",
       "      <td>1</td>\n",
       "      <td>Mmasepala, fa maemo a a kgethegileng a letlelela kgato eo.</td>\n",
       "      <td>mmasepala, fa maemo a a kgethegileng a letlelela kgato eo.</td>\n",
       "    </tr>\n",
       "    <tr>\n",
       "      <th>1</th>\n",
       "      <td>2</td>\n",
       "      <td>Uzakwaziswa ngokufaneleko nakungafuneka eminye imitlolo engezelelako ukuqedelela ukutloliswa kwesibawo sakho.</td>\n",
       "      <td>uzakwaziswa ngokufaneleko nakungafuneka eminye imitlolo engezelelako ukuqedelela ukutloliswa kwesibawo sakho.</td>\n",
       "    </tr>\n",
       "    <tr>\n",
       "      <th>2</th>\n",
       "      <td>3</td>\n",
       "      <td>Tshivhumbeo tshi fana na ngano dza vhathu.</td>\n",
       "      <td>tshivhumbeo tshi fana na ngano dza vhathu.</td>\n",
       "    </tr>\n",
       "    <tr>\n",
       "      <th>3</th>\n",
       "      <td>4</td>\n",
       "      <td>Kube inja nelikati betingevakala kutsi titsini naticocisana.</td>\n",
       "      <td>kube inja nelikati betingevakala kutsi titsini naticocisana.</td>\n",
       "    </tr>\n",
       "    <tr>\n",
       "      <th>4</th>\n",
       "      <td>5</td>\n",
       "      <td>Winste op buitelandse valuta.</td>\n",
       "      <td>winste op buitelandse valuta.</td>\n",
       "    </tr>\n",
       "  </tbody>\n",
       "</table>\n",
       "</div>"
      ],
      "text/plain": [
       "   index  \\\n",
       "0      1   \n",
       "1      2   \n",
       "2      3   \n",
       "3      4   \n",
       "4      5   \n",
       "\n",
       "                                                                                                            text  \\\n",
       "0                                                     Mmasepala, fa maemo a a kgethegileng a letlelela kgato eo.   \n",
       "1  Uzakwaziswa ngokufaneleko nakungafuneka eminye imitlolo engezelelako ukuqedelela ukutloliswa kwesibawo sakho.   \n",
       "2                                                                     Tshivhumbeo tshi fana na ngano dza vhathu.   \n",
       "3                                                   Kube inja nelikati betingevakala kutsi titsini naticocisana.   \n",
       "4                                                                                  Winste op buitelandse valuta.   \n",
       "\n",
       "                                                                                                      clean_text  \n",
       "0                                                     mmasepala, fa maemo a a kgethegileng a letlelela kgato eo.  \n",
       "1  uzakwaziswa ngokufaneleko nakungafuneka eminye imitlolo engezelelako ukuqedelela ukutloliswa kwesibawo sakho.  \n",
       "2                                                                     tshivhumbeo tshi fana na ngano dza vhathu.  \n",
       "3                                                   kube inja nelikati betingevakala kutsi titsini naticocisana.  \n",
       "4                                                                                  winste op buitelandse valuta.  "
      ]
     },
     "execution_count": 52,
     "metadata": {},
     "output_type": "execute_result"
    }
   ],
   "source": [
    "# Load test set data\n",
    "df_test = pd.read_csv('test_set.csv')\n",
    "test_set = df_test.copy()\n",
    "\n",
    "# Remove special characters numbers and punctuation\n",
    "test_set['clean_text'] = test_set['text'].str.replace('[^a-zA-Z#]', ' ', regex=False)\n",
    "\n",
    "# To lowercase\n",
    "test_set['clean_text'] = test_set['clean_text'].str.lower()\n",
    "test_set.head()"
   ]
  },
  {
   "cell_type": "code",
   "execution_count": 54,
   "id": "68050f6f",
   "metadata": {},
   "outputs": [],
   "source": [
    "# Vectorize data \n",
    "X = vectorizer.transform(test_set['clean_text'])\n",
    "\n",
    "X_kbest_hack = selector_kbest.transform(X)\n",
    "\n",
    "nb_predictions = naive_bayes.predict(X_kbest_hack)"
   ]
  },
  {
   "cell_type": "code",
   "execution_count": 58,
   "id": "258b1b60",
   "metadata": {},
   "outputs": [
    {
     "data": {
      "text/html": [
       "<div>\n",
       "<style scoped>\n",
       "    .dataframe tbody tr th:only-of-type {\n",
       "        vertical-align: middle;\n",
       "    }\n",
       "\n",
       "    .dataframe tbody tr th {\n",
       "        vertical-align: top;\n",
       "    }\n",
       "\n",
       "    .dataframe thead th {\n",
       "        text-align: right;\n",
       "    }\n",
       "</style>\n",
       "<table border=\"1\" class=\"dataframe\">\n",
       "  <thead>\n",
       "    <tr style=\"text-align: right;\">\n",
       "      <th></th>\n",
       "      <th>index</th>\n",
       "      <th>text</th>\n",
       "      <th>clean_text</th>\n",
       "      <th>lang_id</th>\n",
       "    </tr>\n",
       "  </thead>\n",
       "  <tbody>\n",
       "    <tr>\n",
       "      <th>0</th>\n",
       "      <td>1</td>\n",
       "      <td>Mmasepala, fa maemo a a kgethegileng a letlelela kgato eo.</td>\n",
       "      <td>mmasepala, fa maemo a a kgethegileng a letlelela kgato eo.</td>\n",
       "      <td>tsn</td>\n",
       "    </tr>\n",
       "    <tr>\n",
       "      <th>1</th>\n",
       "      <td>2</td>\n",
       "      <td>Uzakwaziswa ngokufaneleko nakungafuneka eminye imitlolo engezelelako ukuqedelela ukutloliswa kwesibawo sakho.</td>\n",
       "      <td>uzakwaziswa ngokufaneleko nakungafuneka eminye imitlolo engezelelako ukuqedelela ukutloliswa kwesibawo sakho.</td>\n",
       "      <td>nbl</td>\n",
       "    </tr>\n",
       "    <tr>\n",
       "      <th>2</th>\n",
       "      <td>3</td>\n",
       "      <td>Tshivhumbeo tshi fana na ngano dza vhathu.</td>\n",
       "      <td>tshivhumbeo tshi fana na ngano dza vhathu.</td>\n",
       "      <td>ven</td>\n",
       "    </tr>\n",
       "    <tr>\n",
       "      <th>3</th>\n",
       "      <td>4</td>\n",
       "      <td>Kube inja nelikati betingevakala kutsi titsini naticocisana.</td>\n",
       "      <td>kube inja nelikati betingevakala kutsi titsini naticocisana.</td>\n",
       "      <td>ssw</td>\n",
       "    </tr>\n",
       "    <tr>\n",
       "      <th>4</th>\n",
       "      <td>5</td>\n",
       "      <td>Winste op buitelandse valuta.</td>\n",
       "      <td>winste op buitelandse valuta.</td>\n",
       "      <td>afr</td>\n",
       "    </tr>\n",
       "  </tbody>\n",
       "</table>\n",
       "</div>"
      ],
      "text/plain": [
       "   index  \\\n",
       "0      1   \n",
       "1      2   \n",
       "2      3   \n",
       "3      4   \n",
       "4      5   \n",
       "\n",
       "                                                                                                            text  \\\n",
       "0                                                     Mmasepala, fa maemo a a kgethegileng a letlelela kgato eo.   \n",
       "1  Uzakwaziswa ngokufaneleko nakungafuneka eminye imitlolo engezelelako ukuqedelela ukutloliswa kwesibawo sakho.   \n",
       "2                                                                     Tshivhumbeo tshi fana na ngano dza vhathu.   \n",
       "3                                                   Kube inja nelikati betingevakala kutsi titsini naticocisana.   \n",
       "4                                                                                  Winste op buitelandse valuta.   \n",
       "\n",
       "                                                                                                      clean_text  \\\n",
       "0                                                     mmasepala, fa maemo a a kgethegileng a letlelela kgato eo.   \n",
       "1  uzakwaziswa ngokufaneleko nakungafuneka eminye imitlolo engezelelako ukuqedelela ukutloliswa kwesibawo sakho.   \n",
       "2                                                                     tshivhumbeo tshi fana na ngano dza vhathu.   \n",
       "3                                                   kube inja nelikati betingevakala kutsi titsini naticocisana.   \n",
       "4                                                                                  winste op buitelandse valuta.   \n",
       "\n",
       "  lang_id  \n",
       "0     tsn  \n",
       "1     nbl  \n",
       "2     ven  \n",
       "3     ssw  \n",
       "4     afr  "
      ]
     },
     "execution_count": 58,
     "metadata": {},
     "output_type": "execute_result"
    }
   ],
   "source": [
    "# Add the predicted sentiments to our test set with no labels\n",
    "test_set['lang_id'] = nb_predictions\n",
    "test_set.tail()"
   ]
  },
  {
   "cell_type": "code",
   "execution_count": 59,
   "id": "db55e3c4",
   "metadata": {},
   "outputs": [],
   "source": [
    "# Extract a dataframe for submission\n",
    "submission_df = test_set[['index','lang_id']]\n",
    "\n",
    "# Save submission dataframe to csv\n",
    "submission_df.to_csv('sample_submission.csv', header=True, index=False)"
   ]
  }
 ],
 "metadata": {
  "kernelspec": {
   "display_name": "Python 3 (ipykernel)",
   "language": "python",
   "name": "python3"
  },
  "language_info": {
   "codemirror_mode": {
    "name": "ipython",
    "version": 3
   },
   "file_extension": ".py",
   "mimetype": "text/x-python",
   "name": "python",
   "nbconvert_exporter": "python",
   "pygments_lexer": "ipython3",
   "version": "3.9.7"
  }
 },
 "nbformat": 4,
 "nbformat_minor": 5
}
